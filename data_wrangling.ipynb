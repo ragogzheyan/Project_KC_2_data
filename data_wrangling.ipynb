{
 "cells": [
  {
   "cell_type": "markdown",
   "metadata": {},
   "source": [
    "#### Project 2\n",
    "##### Data Analysis: cleaning and wrangling data \n",
    "\n",
    "    -find and access a data set (API, a CSV, ...) \n",
    "    -Fix issues with the data set \n",
    "    -Remove null values\n",
    "    -Fill in null values with 0's or blanks\n",
    "    -fill in blanks\n",
    "    -fix character strings that aren't formatted correctly (using regex)\n",
    "    -correct column names if they're misnamed\n",
    "    -correct spelling "
   ]
  },
  {
   "cell_type": "code",
   "execution_count": 1,
   "metadata": {},
   "outputs": [],
   "source": [
    "import pandas as pd  # import pandas as pd\n",
    "import matplotlib.pyplot as plt  # import matplotlib.pyplot as plt"
   ]
  },
  {
   "cell_type": "code",
   "execution_count": 2,
   "metadata": {},
   "outputs": [],
   "source": [
    "%matplotlib inline"
   ]
  },
  {
   "cell_type": "code",
   "execution_count": null,
   "metadata": {},
   "outputs": [],
   "source": [
    "# Read CSV: food_data2021\n",
    "# Update publication_date from 2019 to 2021 using regex (first csv file)\n",
    "df1 = pd.read_csv('food_data2021.csv')\n",
    "\n",
    "df1.publication_date.replace({'2019': '2021'}, regex=True,inplace=True)\n",
    "\n",
    "df1.iloc[:6 | -5:]"
   ]
  },
  {
   "cell_type": "code",
   "execution_count": null,
   "metadata": {},
   "outputs": [],
   "source": [
    "# Read CSV: food_data2022\n",
    "# Update publication_date from 2019 to 2022 using regex (first csv file)\n",
    "df2 = pd.read_csv('food_data2022.csv')\n",
    "\n",
    "df2.publication_date.replace({'2019': '2022'}, regex=True,inplace=True) \n",
    "\n",
    "df2.iloc[:6 | -5:]"
   ]
  },
  {
   "cell_type": "code",
   "execution_count": null,
   "metadata": {},
   "outputs": [],
   "source": [
    "# Combine CSV: 2 in 1\n",
    "concate_data = pd.concat([df1, df2])\n",
    "\n",
    "concate_data.iloc[:6 | -5:]"
   ]
  },
  {
   "cell_type": "code",
   "execution_count": 6,
   "metadata": {},
   "outputs": [],
   "source": [
    "pd.set_option('display.max.columns',300)"
   ]
  },
  {
   "cell_type": "code",
   "execution_count": null,
   "metadata": {},
   "outputs": [],
   "source": [
    "# Get info\n",
    "concate_data.info()"
   ]
  },
  {
   "cell_type": "code",
   "execution_count": null,
   "metadata": {},
   "outputs": [],
   "source": [
    "# Check for missing value\n",
    "concate_data.isnull().sum()"
   ]
  },
  {
   "cell_type": "code",
   "execution_count": null,
   "metadata": {},
   "outputs": [],
   "source": [
    "# Remove missing values \n",
    "concate_data.dropna()"
   ]
  },
  {
   "cell_type": "code",
   "execution_count": null,
   "metadata": {},
   "outputs": [],
   "source": [
    "# Fill in \"description column\" with miscellanies tag\n",
    "concate_data['description'].fillna('misc', inplace=True)\n",
    "\n",
    "concate_data.iloc[:6 | -5:]"
   ]
  },
  {
   "cell_type": "code",
   "execution_count": null,
   "metadata": {},
   "outputs": [],
   "source": [
    "# Check for data corrections\n",
    "concate_data.isnull().sum()"
   ]
  },
  {
   "cell_type": "code",
   "execution_count": null,
   "metadata": {},
   "outputs": [],
   "source": [
    "# Rank function\n",
    "concate_data.rank()"
   ]
  },
  {
   "cell_type": "code",
   "execution_count": null,
   "metadata": {},
   "outputs": [],
   "source": [
    "# Describe function\n",
    "concate_data.describe()"
   ]
  },
  {
   "cell_type": "code",
   "execution_count": null,
   "metadata": {},
   "outputs": [],
   "source": [
    "# Check year update for 2021 data \n",
    "df1[df1.publication_date.str.contains('2019')].head()"
   ]
  },
  {
   "cell_type": "code",
   "execution_count": null,
   "metadata": {},
   "outputs": [],
   "source": [
    "# Check year update for 2022 data\n",
    "df2[df2.publication_date.str.contains('2019')].head()"
   ]
  },
  {
   "cell_type": "code",
   "execution_count": 16,
   "metadata": {},
   "outputs": [],
   "source": [
    "# Replace description column name \n",
    "fixed_columns = {\n",
    "    'fdc_id':'fdc_id',\n",
    "    'data_type':'data_type',\n",
    "    'description':'product_name',    # new column name\n",
    "    'food_category_id':'food_category_id',\n",
    "    'publication_date':'publication_date'     \n",
    "}\n",
    "\n",
    "concate_data.rename(columns=fixed_columns,inplace=True)"
   ]
  },
  {
   "cell_type": "code",
   "execution_count": null,
   "metadata": {},
   "outputs": [],
   "source": [
    "concate_data.columns"
   ]
  },
  {
   "cell_type": "code",
   "execution_count": null,
   "metadata": {},
   "outputs": [],
   "source": [
    "# Identify the unique values\n",
    "concate_data.product_name.unique()"
   ]
  },
  {
   "cell_type": "code",
   "execution_count": null,
   "metadata": {},
   "outputs": [],
   "source": [
    "# groupby() method for food_id\n",
    "countdf = concate_data.groupby('food_category_id').count()\n",
    "\n",
    "countdf"
   ]
  },
  {
   "cell_type": "code",
   "execution_count": null,
   "metadata": {},
   "outputs": [],
   "source": [
    "subdf = countdf['fdc_id']\n",
    "\n",
    "subdf"
   ]
  },
  {
   "cell_type": "code",
   "execution_count": null,
   "metadata": {},
   "outputs": [],
   "source": [
    "# Pie Chart\n",
    "plt = subdf.plot.pie(y='',figsize=(8, 8))\n",
    "\n",
    "plt"
   ]
  },
  {
   "cell_type": "code",
   "execution_count": null,
   "metadata": {},
   "outputs": [],
   "source": [
    "# Final data update\n",
    "concate_data"
   ]
  },
  {
   "cell_type": "code",
   "execution_count": null,
   "metadata": {},
   "outputs": [],
   "source": []
  }
 ],
 "metadata": {
  "kernelspec": {
   "display_name": "Python 3.9.7 ('base')",
   "language": "python",
   "name": "python3"
  },
  "language_info": {
   "codemirror_mode": {
    "name": "ipython",
    "version": 3
   },
   "file_extension": ".py",
   "mimetype": "text/x-python",
   "name": "python",
   "nbconvert_exporter": "python",
   "pygments_lexer": "ipython3",
   "version": "3.9.7"
  },
  "orig_nbformat": 4,
  "vscode": {
   "interpreter": {
    "hash": "ad2bdc8ecc057115af97d19610ffacc2b4e99fae6737bb82f5d7fb13d2f2c186"
   }
  }
 },
 "nbformat": 4,
 "nbformat_minor": 2
}
